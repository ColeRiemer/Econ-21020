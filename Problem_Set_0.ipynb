{
 "cells": [
  {
   "cell_type": "markdown",
   "metadata": {},
   "source": [
    "# Problem Set 0\n",
    "### Author: Thomas Wiemann"
   ]
  },
  {
   "cell_type": "markdown",
   "metadata": {},
   "source": [
    "### Preliminaries"
   ]
  },
  {
   "cell_type": "code",
   "execution_count": 3,
   "metadata": {},
   "outputs": [],
   "source": [
    "# Load necessary libraries\n",
    "library(ggplot2) # for plots\n",
    "\n",
    "# Source custome code\n",
    "source(\"mymethods/ols.R\")"
   ]
  },
  {
   "cell_type": "markdown",
   "metadata": {},
   "source": [
    "### Data"
   ]
  },
  {
   "cell_type": "code",
   "execution_count": 6,
   "metadata": {},
   "outputs": [],
   "source": [
    "# Import data from csv file\n",
    "df <- read.csv(file = \"Data/test_data.csv\", header = TRUE, sep = \",\")"
   ]
  },
  {
   "cell_type": "markdown",
   "metadata": {},
   "source": [
    "### Summary Statistics\n",
    "\n",
    " Print first 10 rows to get a first look at the variables. It looks like y, X1,  and X2 are continious but X3 is discrete. Also, get a sense of the    dimension of the data."
   ]
  },
  {
   "cell_type": "code",
   "execution_count": 8,
   "metadata": {},
   "outputs": [
    {
     "data": {
      "text/html": [
       "<table class=\"dataframe\">\n",
       "<caption>A data.frame: 10 × 4</caption>\n",
       "<thead>\n",
       "\t<tr><th></th><th scope=col>y</th><th scope=col>X.1</th><th scope=col>X.2</th><th scope=col>X.3</th></tr>\n",
       "\t<tr><th></th><th scope=col>&lt;dbl&gt;</th><th scope=col>&lt;dbl&gt;</th><th scope=col>&lt;dbl&gt;</th><th scope=col>&lt;int&gt;</th></tr>\n",
       "</thead>\n",
       "<tbody>\n",
       "\t<tr><th scope=row>1</th><td> 9.7516904</td><td> 2.5643484</td><td> 0.8810713</td><td>3</td></tr>\n",
       "\t<tr><th scope=row>2</th><td> 1.9088771</td><td>-2.4285707</td><td>-0.1131153</td><td>4</td></tr>\n",
       "\t<tr><th scope=row>3</th><td> 7.0013882</td><td>-1.0436196</td><td> 1.0608216</td><td>1</td></tr>\n",
       "\t<tr><th scope=row>4</th><td> 1.0100509</td><td>-1.4714928</td><td>-0.7534666</td><td>4</td></tr>\n",
       "\t<tr><th scope=row>5</th><td>13.8330787</td><td> 1.9464727</td><td> 2.6209037</td><td>1</td></tr>\n",
       "\t<tr><th scope=row>6</th><td>11.3400237</td><td> 1.0831001</td><td> 1.6740361</td><td>4</td></tr>\n",
       "\t<tr><th scope=row>7</th><td>11.2271173</td><td> 1.8654452</td><td>-0.6868575</td><td>5</td></tr>\n",
       "\t<tr><th scope=row>8</th><td> 0.7761037</td><td>-2.6291071</td><td> 0.4590107</td><td>4</td></tr>\n",
       "\t<tr><th scope=row>9</th><td>-2.7957775</td><td>-3.1431066</td><td> 0.7044747</td><td>3</td></tr>\n",
       "\t<tr><th scope=row>10</th><td> 8.6156580</td><td> 0.2911605</td><td>-1.8867893</td><td>5</td></tr>\n",
       "</tbody>\n",
       "</table>\n"
      ],
      "text/latex": [
       "A data.frame: 10 × 4\n",
       "\\begin{tabular}{r|llll}\n",
       "  & y & X.1 & X.2 & X.3\\\\\n",
       "  & <dbl> & <dbl> & <dbl> & <int>\\\\\n",
       "\\hline\n",
       "\t1 &  9.7516904 &  2.5643484 &  0.8810713 & 3\\\\\n",
       "\t2 &  1.9088771 & -2.4285707 & -0.1131153 & 4\\\\\n",
       "\t3 &  7.0013882 & -1.0436196 &  1.0608216 & 1\\\\\n",
       "\t4 &  1.0100509 & -1.4714928 & -0.7534666 & 4\\\\\n",
       "\t5 & 13.8330787 &  1.9464727 &  2.6209037 & 1\\\\\n",
       "\t6 & 11.3400237 &  1.0831001 &  1.6740361 & 4\\\\\n",
       "\t7 & 11.2271173 &  1.8654452 & -0.6868575 & 5\\\\\n",
       "\t8 &  0.7761037 & -2.6291071 &  0.4590107 & 4\\\\\n",
       "\t9 & -2.7957775 & -3.1431066 &  0.7044747 & 3\\\\\n",
       "\t10 &  8.6156580 &  0.2911605 & -1.8867893 & 5\\\\\n",
       "\\end{tabular}\n"
      ],
      "text/markdown": [
       "\n",
       "A data.frame: 10 × 4\n",
       "\n",
       "| <!--/--> | y &lt;dbl&gt; | X.1 &lt;dbl&gt; | X.2 &lt;dbl&gt; | X.3 &lt;int&gt; |\n",
       "|---|---|---|---|---|\n",
       "| 1 |  9.7516904 |  2.5643484 |  0.8810713 | 3 |\n",
       "| 2 |  1.9088771 | -2.4285707 | -0.1131153 | 4 |\n",
       "| 3 |  7.0013882 | -1.0436196 |  1.0608216 | 1 |\n",
       "| 4 |  1.0100509 | -1.4714928 | -0.7534666 | 4 |\n",
       "| 5 | 13.8330787 |  1.9464727 |  2.6209037 | 1 |\n",
       "| 6 | 11.3400237 |  1.0831001 |  1.6740361 | 4 |\n",
       "| 7 | 11.2271173 |  1.8654452 | -0.6868575 | 5 |\n",
       "| 8 |  0.7761037 | -2.6291071 |  0.4590107 | 4 |\n",
       "| 9 | -2.7957775 | -3.1431066 |  0.7044747 | 3 |\n",
       "| 10 |  8.6156580 |  0.2911605 | -1.8867893 | 5 |\n",
       "\n"
      ],
      "text/plain": [
       "   y          X.1        X.2        X.3\n",
       "1   9.7516904  2.5643484  0.8810713 3  \n",
       "2   1.9088771 -2.4285707 -0.1131153 4  \n",
       "3   7.0013882 -1.0436196  1.0608216 1  \n",
       "4   1.0100509 -1.4714928 -0.7534666 4  \n",
       "5  13.8330787  1.9464727  2.6209037 1  \n",
       "6  11.3400237  1.0831001  1.6740361 4  \n",
       "7  11.2271173  1.8654452 -0.6868575 5  \n",
       "8   0.7761037 -2.6291071  0.4590107 4  \n",
       "9  -2.7957775 -3.1431066  0.7044747 3  \n",
       "10  8.6156580  0.2911605 -1.8867893 5  "
      ]
     },
     "metadata": {},
     "output_type": "display_data"
    },
    {
     "data": {
      "text/html": [
       "<style>\n",
       ".list-inline {list-style: none; margin:0; padding: 0}\n",
       ".list-inline>li {display: inline-block}\n",
       ".list-inline>li:not(:last-child)::after {content: \"\\00b7\"; padding: 0 .5ex}\n",
       "</style>\n",
       "<ol class=list-inline><li>1620</li><li>4</li></ol>\n"
      ],
      "text/latex": [
       "\\begin{enumerate*}\n",
       "\\item 1620\n",
       "\\item 4\n",
       "\\end{enumerate*}\n"
      ],
      "text/markdown": [
       "1. 1620\n",
       "2. 4\n",
       "\n",
       "\n"
      ],
      "text/plain": [
       "[1] 1620    4"
      ]
     },
     "metadata": {},
     "output_type": "display_data"
    }
   ],
   "source": [
    "head(df, 10)\n",
    "\n",
    "dim(df) # 1620 observations with 4 variables"
   ]
  },
  {
   "cell_type": "markdown",
   "metadata": {},
   "source": [
    "Calculate summary statistics for each variable. First, use the `summary` command. Then, replicate the mean with the `apply` function. Also  calculate the 10th, and 90th quantile of each  vaiable, as well as their   standard deviation. Combine the summary statistics in a dataframe."
   ]
  },
  {
   "cell_type": "code",
   "execution_count": 11,
   "metadata": {},
   "outputs": [
    {
     "data": {
      "text/plain": [
       "       y               X.1               X.2               X.3       \n",
       " Min.   :-7.837   Min.   :-5.2432   Min.   :-1.9995   Min.   :1.000  \n",
       " 1st Qu.: 1.894   1st Qu.:-2.2168   1st Qu.:-0.8427   1st Qu.:2.000  \n",
       " Median : 5.276   Median :-1.0671   Median : 0.4010   Median :3.000  \n",
       " Mean   : 5.810   Mean   :-0.4284   Mean   : 0.4379   Mean   :3.016  \n",
       " 3rd Qu.: 9.838   3rd Qu.: 1.6498   3rd Qu.: 1.6886   3rd Qu.:4.000  \n",
       " Max.   :22.344   Max.   : 5.5766   Max.   : 2.9943   Max.   :5.000  "
      ]
     },
     "metadata": {},
     "output_type": "display_data"
    }
   ],
   "source": [
    "summary(df)"
   ]
  },
  {
   "cell_type": "code",
   "execution_count": 12,
   "metadata": {},
   "outputs": [
    {
     "data": {
      "text/html": [
       "<table class=\"dataframe\">\n",
       "<caption>A data.frame: 4 × 4</caption>\n",
       "<thead>\n",
       "\t<tr><th></th><th scope=col>y</th><th scope=col>X.1</th><th scope=col>X.2</th><th scope=col>X.3</th></tr>\n",
       "\t<tr><th></th><th scope=col>&lt;dbl&gt;</th><th scope=col>&lt;dbl&gt;</th><th scope=col>&lt;dbl&gt;</th><th scope=col>&lt;dbl&gt;</th></tr>\n",
       "</thead>\n",
       "<tbody>\n",
       "\t<tr><th scope=row>var_mean</th><td> 5.8102100</td><td>-0.4283659</td><td> 0.4378677</td><td>3.016049</td></tr>\n",
       "\t<tr><th scope=row>var_sd</th><td> 5.1790325</td><td> 2.1947526</td><td> 1.4461576</td><td>1.419354</td></tr>\n",
       "\t<tr><th scope=row>10%</th><td>-0.6401808</td><td>-2.9793838</td><td>-1.5248697</td><td>1.000000</td></tr>\n",
       "\t<tr><th scope=row>90%</th><td>13.1608986</td><td> 2.6684017</td><td> 2.4686123</td><td>5.000000</td></tr>\n",
       "</tbody>\n",
       "</table>\n"
      ],
      "text/latex": [
       "A data.frame: 4 × 4\n",
       "\\begin{tabular}{r|llll}\n",
       "  & y & X.1 & X.2 & X.3\\\\\n",
       "  & <dbl> & <dbl> & <dbl> & <dbl>\\\\\n",
       "\\hline\n",
       "\tvar\\_mean &  5.8102100 & -0.4283659 &  0.4378677 & 3.016049\\\\\n",
       "\tvar\\_sd &  5.1790325 &  2.1947526 &  1.4461576 & 1.419354\\\\\n",
       "\t10\\% & -0.6401808 & -2.9793838 & -1.5248697 & 1.000000\\\\\n",
       "\t90\\% & 13.1608986 &  2.6684017 &  2.4686123 & 5.000000\\\\\n",
       "\\end{tabular}\n"
      ],
      "text/markdown": [
       "\n",
       "A data.frame: 4 × 4\n",
       "\n",
       "| <!--/--> | y &lt;dbl&gt; | X.1 &lt;dbl&gt; | X.2 &lt;dbl&gt; | X.3 &lt;dbl&gt; |\n",
       "|---|---|---|---|---|\n",
       "| var_mean |  5.8102100 | -0.4283659 |  0.4378677 | 3.016049 |\n",
       "| var_sd |  5.1790325 |  2.1947526 |  1.4461576 | 1.419354 |\n",
       "| 10% | -0.6401808 | -2.9793838 | -1.5248697 | 1.000000 |\n",
       "| 90% | 13.1608986 |  2.6684017 |  2.4686123 | 5.000000 |\n",
       "\n"
      ],
      "text/plain": [
       "         y          X.1        X.2        X.3     \n",
       "var_mean  5.8102100 -0.4283659  0.4378677 3.016049\n",
       "var_sd    5.1790325  2.1947526  1.4461576 1.419354\n",
       "10%      -0.6401808 -2.9793838 -1.5248697 1.000000\n",
       "90%      13.1608986  2.6684017  2.4686123 5.000000"
      ]
     },
     "metadata": {},
     "output_type": "display_data"
    }
   ],
   "source": [
    "var_mean <- apply(X = df, MARGIN = 2, FUN = mean) \n",
    "var_sd <- apply(X = df, MARGIN = 2, FUN = sd) \n",
    "var_quantiles <- apply(X = df, MARGIN = 2, \n",
    "                       FUN = function(x) {\n",
    "                         quantile(x, c(0.1, 0.9))\n",
    "                       })#APPLY\n",
    "\n",
    "df_sumstats <- data.frame(rbind(var_mean, var_sd, var_quantiles))\n",
    "df_sumstats"
   ]
  },
  {
   "cell_type": "markdown",
   "metadata": {},
   "source": [
    "The summary statistics calculated so far may not be particularly informative    about X3, the discrete variable. Here, a tabulation may give better  insights. It looks like the five distinct values of X3 are approximately   uniformly distributed in the sample."
   ]
  },
  {
   "cell_type": "code",
   "execution_count": 13,
   "metadata": {},
   "outputs": [
    {
     "data": {
      "text/plain": [
       "\n",
       "  1   2   3   4   5 \n",
       "323 322 308 340 327 "
      ]
     },
     "metadata": {},
     "output_type": "display_data"
    },
    {
     "data": {
      "text/plain": [
       "\n",
       "        1         2         3         4         5 \n",
       "0.1993827 0.1987654 0.1901235 0.2098765 0.2018519 "
      ]
     },
     "metadata": {},
     "output_type": "display_data"
    }
   ],
   "source": [
    "table(df$X.3) # frequency of values within the data\n",
    "\n",
    "table(df$X.3) / dim(df)[1] # relative frequencies"
   ]
  },
  {
   "cell_type": "markdown",
   "metadata": {},
   "source": [
    "### Descriptive regression analysis\n",
    "\n",
    "As a last part of the analysis here, we characterize the conditional distribution distribution of y given X via linear regression. R's built-in  command for linear regression is `lm`, which we use here first. To obtain the coefficient values and corresponding standard errors, we use the  `summary` method (also built-in)."
   ]
  },
  {
   "cell_type": "code",
   "execution_count": 14,
   "metadata": {},
   "outputs": [
    {
     "data": {
      "text/plain": [
       "\n",
       "Call:\n",
       "lm(formula = y ~ ., data = df)\n",
       "\n",
       "Residuals:\n",
       "    Min      1Q  Median      3Q     Max \n",
       "-7.0028 -1.5431  0.2806  1.6243  6.4738 \n",
       "\n",
       "Coefficients:\n",
       "            Estimate Std. Error t value Pr(>|t|)    \n",
       "(Intercept)  6.15992    0.13734  44.852   <2e-16 ***\n",
       "X.1          1.98620    0.02628  75.588   <2e-16 ***\n",
       "X.2          1.01089    0.03989  25.344   <2e-16 ***\n",
       "X.3          0.01939    0.04063   0.477    0.633    \n",
       "---\n",
       "Signif. codes:  0 '***' 0.001 '**' 0.01 '*' 0.05 '.' 0.1 ' ' 1\n",
       "\n",
       "Residual standard error: 2.32 on 1616 degrees of freedom\n",
       "Multiple R-squared:  0.7997,\tAdjusted R-squared:  0.7994 \n",
       "F-statistic:  2151 on 3 and 1616 DF,  p-value: < 2.2e-16\n"
      ]
     },
     "metadata": {},
     "output_type": "display_data"
    }
   ],
   "source": [
    "fit_lm <- lm(y ~ ., data = df) # linear regression of y on X and a constant\n",
    "summary(fit_lm) # get coefficient values and standard errors"
   ]
  },
  {
   "cell_type": "markdown",
   "metadata": {},
   "source": [
    "Let us briefly check whether the regression output is sensible. For example,   let's plot the regression residuals against our three variables X1-X3. We    can use R's build in `plot` function for this. \n",
    "\n"
   ]
  },
  {
   "cell_type": "code",
   "execution_count": 15,
   "metadata": {},
   "outputs": [
    {
     "data": {
      "image/png": "[encoded data removed]",
      "text/plain": [
       "plot without title"
      ]
     },
     "metadata": {
      "image/png": {
       "height": 420,
       "width": 420
      }
     },
     "output_type": "display_data"
    },
    {
     "data": {
      "image/png": "[encoded data removed]",
      "text/plain": [
       "plot without title"
      ]
     },
     "metadata": {
      "image/png": {
       "height": 420,
       "width": 420
      }
     },
     "output_type": "display_data"
    },
    {
     "data": {
      "image/png": "[encoded data removed]",
      "text/plain": [
       "plot without title"
      ]
     },
     "metadata": {
      "image/png": {
       "height": 420,
       "width": 420
      }
     },
     "output_type": "display_data"
    }
   ],
   "source": [
    "plot(x = df$X.1, y = fit_lm$residuals, \n",
    "     xlab = \"X.1\", ylab = expression(epsilon))\n",
    "plot(x = df$X.2, y = fit_lm$residuals, \n",
    "     xlab = \"X.2\", ylab = expression(epsilon))\n",
    "plot(x = df$X.3, y = fit_lm$residuals, \n",
    "     xlab = \"X.3\", ylab = expression(epsilon))"
   ]
  },
  {
   "cell_type": "markdown",
   "metadata": {},
   "source": [
    "For better plots with more customization options, the reccomended package is   `ggplot2`. In the below, the third residual plot is reproduced and exported   as a .pdf file (e.g., so that it can be included in a LaTeX document.)\n"
   ]
  },
  {
   "cell_type": "code",
   "execution_count": 18,
   "metadata": {},
   "outputs": [
    {
     "data": {
      "text/html": [
       "<strong>png:</strong> 2"
      ],
      "text/latex": [
       "\\textbf{png:} 2"
      ],
      "text/markdown": [
       "**png:** 2"
      ],
      "text/plain": [
       "png \n",
       "  2 "
      ]
     },
     "metadata": {},
     "output_type": "display_data"
    },
    {
     "data": {
      "image/png": "[encoded data removed]",
      "text/plain": [
       "plot without title"
      ]
     },
     "metadata": {
      "image/png": {
       "height": 420,
       "width": 420
      }
     },
     "output_type": "display_data"
    }
   ],
   "source": [
    "pdf(\"Results/Problem_Set_0/Figures/plt_residualX3.pdf\", \n",
    "    width=10, height=8, paper='special') \n",
    "\n",
    "df_plt <- data.frame(X.3 = df$X.3, eps = fit_lm$residuals)\n",
    "plt <- ggplot(df_plt, aes(x = X.3, y = eps)) + \n",
    "  geom_point()  +\n",
    "  ylab(expression(epsilon)) +\n",
    "  xlab(\"X.3\") +\n",
    "  theme_classic(base_size = 30)\n",
    "print(plt)\n",
    "\n",
    "dev.off() # make sure to include this when using `pdf`\n",
    "\n",
    "plt # include this so that it's printed to the jupyter notebook"
   ]
  },
  {
   "cell_type": "markdown",
   "metadata": {},
   "source": [
    "The third plot, where we consider X3, suggests that we did not correctly capture the relationship between y and X3 with the linear model considered above. Note that we did not differentiate between the continious X1 and   X2, and the discrete X3. To allow for nonlinearities, it may be better to   use indicator variables for different levels of X3. To do so, first set   the variable type to factor. R will then include indicator variables when  calling `lm`."
   ]
  },
  {
   "cell_type": "code",
   "execution_count": 20,
   "metadata": {},
   "outputs": [
    {
     "data": {
      "text/plain": [
       "\n",
       "Call:\n",
       "lm(formula = y ~ ., data = df)\n",
       "\n",
       "Residuals:\n",
       "    Min      1Q  Median      3Q     Max \n",
       "-4.9506 -0.9992 -0.0155  0.9494  4.7182 \n",
       "\n",
       "Coefficients:\n",
       "            Estimate Std. Error t value Pr(>|t|)    \n",
       "(Intercept)  7.93968    0.08276  95.941   <2e-16 ***\n",
       "X.1          1.98989    0.01659 119.963   <2e-16 ***\n",
       "X.2          1.01614    0.02517  40.365   <2e-16 ***\n",
       "X.32        -1.96674    0.11529 -17.059   <2e-16 ***\n",
       "X.33        -4.97095    0.11656 -42.647   <2e-16 ***\n",
       "X.34        -1.87100    0.11374 -16.450   <2e-16 ***\n",
       "X.35         0.03317    0.11487   0.289    0.773    \n",
       "---\n",
       "Signif. codes:  0 '***' 0.001 '**' 0.01 '*' 0.05 '.' 0.1 ' ' 1\n",
       "\n",
       "Residual standard error: 1.463 on 1613 degrees of freedom\n",
       "Multiple R-squared:  0.9204,\tAdjusted R-squared:  0.9202 \n",
       "F-statistic:  3110 on 6 and 1613 DF,  p-value: < 2.2e-16\n"
      ]
     },
     "metadata": {},
     "output_type": "display_data"
    }
   ],
   "source": [
    "df$X.3 <- as.factor(df$X.3)\n",
    "fit_lm2 <- lm(y ~ ., data = df)\n",
    "summary_2 <- summary(fit_lm2) # that looks a lot better! \n",
    "summary_2"
   ]
  },
  {
   "cell_type": "markdown",
   "metadata": {},
   "source": [
    "As a last step, combine the desired results in a dataframe."
   ]
  },
  {
   "cell_type": "code",
   "execution_count": 21,
   "metadata": {},
   "outputs": [],
   "source": [
    "df_res <- data.frame(summary_2$coefficients)"
   ]
  },
  {
   "cell_type": "markdown",
   "metadata": {},
   "source": [
    "### Exporting results to csv\n",
    "\n",
    "Once the analysis is finished, it is often useful to store the results in .csv  files. Having already stored the desired numbers in dataframes, this is      straightforward. Here, we export both the summary statistics and the  regression results. This concludes Problem Set 0."
   ]
  },
  {
   "cell_type": "code",
   "execution_count": 22,
   "metadata": {},
   "outputs": [],
   "source": [
    "write.csv(df_sumstats, file=\"Results/Problem_Set_0/Tables/summary_stats.csv\")\n",
    "write.csv(df_res, file=\"Results/Problem_Set_0/Tables/regression_res.csv\")"
   ]
  },
  {
   "cell_type": "markdown",
   "metadata": {},
   "source": [
    "### Optional: Creating your own `lm` object \n",
    "\n",
    "One of the benefits of R over readily packaged statistical software (such as    Stata or SPSS) is the ease with which statistical estimators can be    implemented (or improved upon) by hand. To see how easy this can be, try  writing your own `lm` function. I've written one called `ols`, which    supports basic regression analysis of a univariate outcome on a set of   regressors stored in a matrix. It does not have the helpful interface of    the `lm` object. See the file stored as \"R Code/ols.R\" for details."
   ]
  },
  {
   "cell_type": "markdown",
   "metadata": {},
   "source": [
    "First, let's get the full regression matrix where X3 is included as a set of    indicator variables."
   ]
  },
  {
   "cell_type": "code",
   "execution_count": 23,
   "metadata": {},
   "outputs": [
    {
     "data": {
      "text/html": [
       "<table class=\"dataframe\">\n",
       "<caption>A matrix: 10 × 7 of type dbl</caption>\n",
       "<thead>\n",
       "\t<tr><th></th><th scope=col>(Intercept)</th><th scope=col>X.1</th><th scope=col>X.2</th><th scope=col>X.32</th><th scope=col>X.33</th><th scope=col>X.34</th><th scope=col>X.35</th></tr>\n",
       "</thead>\n",
       "<tbody>\n",
       "\t<tr><th scope=row>1</th><td>1</td><td> 2.5643484</td><td> 0.8810713</td><td>0</td><td>1</td><td>0</td><td>0</td></tr>\n",
       "\t<tr><th scope=row>2</th><td>1</td><td>-2.4285707</td><td>-0.1131153</td><td>0</td><td>0</td><td>1</td><td>0</td></tr>\n",
       "\t<tr><th scope=row>3</th><td>1</td><td>-1.0436196</td><td> 1.0608216</td><td>0</td><td>0</td><td>0</td><td>0</td></tr>\n",
       "\t<tr><th scope=row>4</th><td>1</td><td>-1.4714928</td><td>-0.7534666</td><td>0</td><td>0</td><td>1</td><td>0</td></tr>\n",
       "\t<tr><th scope=row>5</th><td>1</td><td> 1.9464727</td><td> 2.6209037</td><td>0</td><td>0</td><td>0</td><td>0</td></tr>\n",
       "\t<tr><th scope=row>6</th><td>1</td><td> 1.0831001</td><td> 1.6740361</td><td>0</td><td>0</td><td>1</td><td>0</td></tr>\n",
       "\t<tr><th scope=row>7</th><td>1</td><td> 1.8654452</td><td>-0.6868575</td><td>0</td><td>0</td><td>0</td><td>1</td></tr>\n",
       "\t<tr><th scope=row>8</th><td>1</td><td>-2.6291071</td><td> 0.4590107</td><td>0</td><td>0</td><td>1</td><td>0</td></tr>\n",
       "\t<tr><th scope=row>9</th><td>1</td><td>-3.1431066</td><td> 0.7044747</td><td>0</td><td>1</td><td>0</td><td>0</td></tr>\n",
       "\t<tr><th scope=row>10</th><td>1</td><td> 0.2911605</td><td>-1.8867893</td><td>0</td><td>0</td><td>0</td><td>1</td></tr>\n",
       "</tbody>\n",
       "</table>\n"
      ],
      "text/latex": [
       "A matrix: 10 × 7 of type dbl\n",
       "\\begin{tabular}{r|lllllll}\n",
       "  & (Intercept) & X.1 & X.2 & X.32 & X.33 & X.34 & X.35\\\\\n",
       "\\hline\n",
       "\t1 & 1 &  2.5643484 &  0.8810713 & 0 & 1 & 0 & 0\\\\\n",
       "\t2 & 1 & -2.4285707 & -0.1131153 & 0 & 0 & 1 & 0\\\\\n",
       "\t3 & 1 & -1.0436196 &  1.0608216 & 0 & 0 & 0 & 0\\\\\n",
       "\t4 & 1 & -1.4714928 & -0.7534666 & 0 & 0 & 1 & 0\\\\\n",
       "\t5 & 1 &  1.9464727 &  2.6209037 & 0 & 0 & 0 & 0\\\\\n",
       "\t6 & 1 &  1.0831001 &  1.6740361 & 0 & 0 & 1 & 0\\\\\n",
       "\t7 & 1 &  1.8654452 & -0.6868575 & 0 & 0 & 0 & 1\\\\\n",
       "\t8 & 1 & -2.6291071 &  0.4590107 & 0 & 0 & 1 & 0\\\\\n",
       "\t9 & 1 & -3.1431066 &  0.7044747 & 0 & 1 & 0 & 0\\\\\n",
       "\t10 & 1 &  0.2911605 & -1.8867893 & 0 & 0 & 0 & 1\\\\\n",
       "\\end{tabular}\n"
      ],
      "text/markdown": [
       "\n",
       "A matrix: 10 × 7 of type dbl\n",
       "\n",
       "| <!--/--> | (Intercept) | X.1 | X.2 | X.32 | X.33 | X.34 | X.35 |\n",
       "|---|---|---|---|---|---|---|---|\n",
       "| 1 | 1 |  2.5643484 |  0.8810713 | 0 | 1 | 0 | 0 |\n",
       "| 2 | 1 | -2.4285707 | -0.1131153 | 0 | 0 | 1 | 0 |\n",
       "| 3 | 1 | -1.0436196 |  1.0608216 | 0 | 0 | 0 | 0 |\n",
       "| 4 | 1 | -1.4714928 | -0.7534666 | 0 | 0 | 1 | 0 |\n",
       "| 5 | 1 |  1.9464727 |  2.6209037 | 0 | 0 | 0 | 0 |\n",
       "| 6 | 1 |  1.0831001 |  1.6740361 | 0 | 0 | 1 | 0 |\n",
       "| 7 | 1 |  1.8654452 | -0.6868575 | 0 | 0 | 0 | 1 |\n",
       "| 8 | 1 | -2.6291071 |  0.4590107 | 0 | 0 | 1 | 0 |\n",
       "| 9 | 1 | -3.1431066 |  0.7044747 | 0 | 1 | 0 | 0 |\n",
       "| 10 | 1 |  0.2911605 | -1.8867893 | 0 | 0 | 0 | 1 |\n",
       "\n"
      ],
      "text/plain": [
       "   (Intercept) X.1        X.2        X.32 X.33 X.34 X.35\n",
       "1  1            2.5643484  0.8810713 0    1    0    0   \n",
       "2  1           -2.4285707 -0.1131153 0    0    1    0   \n",
       "3  1           -1.0436196  1.0608216 0    0    0    0   \n",
       "4  1           -1.4714928 -0.7534666 0    0    1    0   \n",
       "5  1            1.9464727  2.6209037 0    0    0    0   \n",
       "6  1            1.0831001  1.6740361 0    0    1    0   \n",
       "7  1            1.8654452 -0.6868575 0    0    0    1   \n",
       "8  1           -2.6291071  0.4590107 0    0    1    0   \n",
       "9  1           -3.1431066  0.7044747 0    1    0    0   \n",
       "10 1            0.2911605 -1.8867893 0    0    0    1   "
      ]
     },
     "metadata": {},
     "output_type": "display_data"
    }
   ],
   "source": [
    "X_mat <- model.matrix(y ~ ., data = df)\n",
    "head(X_mat, 10) # see the last columns for the indicator variables"
   ]
  },
  {
   "cell_type": "markdown",
   "metadata": {},
   "source": [
    "We may then regress y on X_mat as before. I've also written a `summary` method    for my `ols` object. The coefficient values and standard errors should be  the same as before. "
   ]
  },
  {
   "cell_type": "code",
   "execution_count": 24,
   "metadata": {},
   "outputs": [
    {
     "data": {
      "text/html": [
       "<dl>\n",
       "\t<dt>$res</dt>\n",
       "\t\t<dd><table class=\"dataframe\">\n",
       "<caption>A matrix: 7 × 4 of type dbl</caption>\n",
       "<thead>\n",
       "\t<tr><th></th><th scope=col>Coef.</th><th scope=col>S.E.</th><th scope=col>t Stat.</th><th scope=col>p-val.</th></tr>\n",
       "</thead>\n",
       "<tbody>\n",
       "\t<tr><th scope=row>(Intercept)</th><td> 7.93967515</td><td>0.08275614</td><td> 95.940618</td><td>0.000000e+00</td></tr>\n",
       "\t<tr><th scope=row>X.1</th><td> 1.98989295</td><td>0.01658756</td><td>119.962980</td><td>0.000000e+00</td></tr>\n",
       "\t<tr><th scope=row>X.2</th><td> 1.01614332</td><td>0.02517403</td><td> 40.364748</td><td>0.000000e+00</td></tr>\n",
       "\t<tr><th scope=row>X.32</th><td>-1.96674217</td><td>0.11528731</td><td>-17.059485</td><td>2.971648e-65</td></tr>\n",
       "\t<tr><th scope=row>X.33</th><td>-4.97095366</td><td>0.11656031</td><td>-42.647051</td><td>0.000000e+00</td></tr>\n",
       "\t<tr><th scope=row>X.34</th><td>-1.87100244</td><td>0.11373809</td><td>-16.450096</td><td>8.373520e-61</td></tr>\n",
       "\t<tr><th scope=row>X.35</th><td> 0.03317075</td><td>0.11487270</td><td>  0.288761</td><td>7.727643e-01</td></tr>\n",
       "</tbody>\n",
       "</table>\n",
       "</dd>\n",
       "\t<dt>$nobs</dt>\n",
       "\t\t<dd>1620</dd>\n",
       "\t<dt>$R2</dt>\n",
       "\t\t<dd>0.920447293295148</dd>\n",
       "</dl>\n"
      ],
      "text/latex": [
       "\\begin{description}\n",
       "\\item[\\$res] A matrix: 7 × 4 of type dbl\n",
       "\\begin{tabular}{r|llll}\n",
       "  & Coef. & S.E. & t Stat. & p-val.\\\\\n",
       "\\hline\n",
       "\t(Intercept) &  7.93967515 & 0.08275614 &  95.940618 & 0.000000e+00\\\\\n",
       "\tX.1 &  1.98989295 & 0.01658756 & 119.962980 & 0.000000e+00\\\\\n",
       "\tX.2 &  1.01614332 & 0.02517403 &  40.364748 & 0.000000e+00\\\\\n",
       "\tX.32 & -1.96674217 & 0.11528731 & -17.059485 & 2.971648e-65\\\\\n",
       "\tX.33 & -4.97095366 & 0.11656031 & -42.647051 & 0.000000e+00\\\\\n",
       "\tX.34 & -1.87100244 & 0.11373809 & -16.450096 & 8.373520e-61\\\\\n",
       "\tX.35 &  0.03317075 & 0.11487270 &   0.288761 & 7.727643e-01\\\\\n",
       "\\end{tabular}\n",
       "\n",
       "\\item[\\$nobs] 1620\n",
       "\\item[\\$R2] 0.920447293295148\n",
       "\\end{description}\n"
      ],
      "text/markdown": [
       "$res\n",
       ":   \n",
       "A matrix: 7 × 4 of type dbl\n",
       "\n",
       "| <!--/--> | Coef. | S.E. | t Stat. | p-val. |\n",
       "|---|---|---|---|---|\n",
       "| (Intercept) |  7.93967515 | 0.08275614 |  95.940618 | 0.000000e+00 |\n",
       "| X.1 |  1.98989295 | 0.01658756 | 119.962980 | 0.000000e+00 |\n",
       "| X.2 |  1.01614332 | 0.02517403 |  40.364748 | 0.000000e+00 |\n",
       "| X.32 | -1.96674217 | 0.11528731 | -17.059485 | 2.971648e-65 |\n",
       "| X.33 | -4.97095366 | 0.11656031 | -42.647051 | 0.000000e+00 |\n",
       "| X.34 | -1.87100244 | 0.11373809 | -16.450096 | 8.373520e-61 |\n",
       "| X.35 |  0.03317075 | 0.11487270 |   0.288761 | 7.727643e-01 |\n",
       "\n",
       "\n",
       "$nobs\n",
       ":   1620\n",
       "$R2\n",
       ":   0.920447293295148\n",
       "\n",
       "\n"
      ],
      "text/plain": [
       "$res\n",
       "                  Coef.       S.E.    t Stat.       p-val.\n",
       "(Intercept)  7.93967515 0.08275614  95.940618 0.000000e+00\n",
       "X.1          1.98989295 0.01658756 119.962980 0.000000e+00\n",
       "X.2          1.01614332 0.02517403  40.364748 0.000000e+00\n",
       "X.32        -1.96674217 0.11528731 -17.059485 2.971648e-65\n",
       "X.33        -4.97095366 0.11656031 -42.647051 0.000000e+00\n",
       "X.34        -1.87100244 0.11373809 -16.450096 8.373520e-61\n",
       "X.35         0.03317075 0.11487270   0.288761 7.727643e-01\n",
       "\n",
       "$nobs\n",
       "[1] 1620\n",
       "\n",
       "$R2\n",
       "[1] 0.9204473\n"
      ]
     },
     "metadata": {},
     "output_type": "display_data"
    }
   ],
   "source": [
    "fit_ols <- ols(y = df$y, X = X_mat)\n",
    "summary(fit_ols)"
   ]
  },
  {
   "cell_type": "markdown",
   "metadata": {},
   "source": [
    "What's the use of writing your own estimator functions? On one hand, you don't need to rely on software to provide you with the estimators you want to   use. On the other, even when estimators are readily implemented, e.g., in    a package, they are seldomly optimized for the task at hand. To save     computational time, your own implementations can be of benefit -- even for  estimators as simple as linear regression. See the example below, where  `ols` is faster than `lm`."
   ]
  },
  {
   "cell_type": "code",
   "execution_count": 25,
   "metadata": {},
   "outputs": [
    {
     "data": {
      "text/plain": [
       "   user  system elapsed \n",
       "   0.81    0.06    0.78 "
      ]
     },
     "metadata": {},
     "output_type": "display_data"
    },
    {
     "data": {
      "text/plain": [
       "   user  system elapsed \n",
       "   0.07    0.00    0.06 "
      ]
     },
     "metadata": {},
     "output_type": "display_data"
    }
   ],
   "source": [
    "N <- 1000000 # set large sample size to see difference in time \n",
    "x <- rnorm(N) # simulate regressor \n",
    "y <- x + rnorm(N) # simulate outcome variable\n",
    "system.time(lm(y ~ x)) # run lm\n",
    "system.time(ols(y,  x)) # run ols"
   ]
  }
 ],
 "metadata": {
  "kernelspec": {
   "display_name": "R",
   "language": "R",
   "name": "ir"
  },
  "language_info": {
   "codemirror_mode": "r",
   "file_extension": ".r",
   "mimetype": "text/x-r-source",
   "name": "R",
   "pygments_lexer": "r",
   "version": "3.6.1"
  }
 },
 "nbformat": 4,
 "nbformat_minor": 4
}
